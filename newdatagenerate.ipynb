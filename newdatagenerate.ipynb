{
  "nbformat": 4,
  "nbformat_minor": 0,
  "metadata": {
    "colab": {
      "name": "newdatagenerate.ipynb",
      "provenance": []
    },
    "kernelspec": {
      "name": "python3",
      "display_name": "Python 3"
    },
    "language_info": {
      "name": "python"
    }
  },
  "cells": [
    {
      "cell_type": "code",
      "execution_count": 1,
      "metadata": {
        "id": "c1lDOj-96Pla"
      },
      "outputs": [],
      "source": [
        "import numpy as np"
      ]
    },
    {
      "cell_type": "code",
      "source": [
        "for i in range(1, 9):\n",
        "    test_case = 'test' + str(i) + '.txt'\n",
        "    a = 10000 - 10000 * np.random.randn(1000, 1000)\n",
        "    a = a.reshape(1000000)\n",
        "    np.savetxt(test_case, a, delimiter =\" \")"
      ],
      "metadata": {
        "id": "DY_B6p8y6Ubs"
      },
      "execution_count": 2,
      "outputs": []
    },
    {
      "cell_type": "code",
      "source": [
        "a = 10000 - 10000 * np.random.randn(1000, 1000)\n",
        "a = a.reshape(1000000)\n",
        "a = np.sort(a)\n",
        "np.savetxt(\"test9.txt\", a, delimiter =\" \")"
      ],
      "metadata": {
        "id": "re9cjLDT6ZDc"
      },
      "execution_count": 4,
      "outputs": []
    },
    {
      "cell_type": "code",
      "source": [
        "a = 10000 - 10000 * np.random.randn(1000, 1000)\n",
        "a = a.reshape(1000000)\n",
        "a = np.sort(a)\n",
        "a = a[::-1]\n",
        "np.savetxt(\"test10.txt\", a, delimiter =\" \")"
      ],
      "metadata": {
        "id": "knm6igXM6XEd"
      },
      "execution_count": 3,
      "outputs": []
    }
  ]
}